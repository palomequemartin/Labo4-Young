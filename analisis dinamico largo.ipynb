{
 "cells": [
  {
   "cell_type": "code",
   "execution_count": 1,
   "metadata": {},
   "outputs": [],
   "source": [
    "import numpy as np\n",
    "import matplotlib.pyplot as plt\n",
    "import pandas as pd\n",
    "from scipy.fft import fft, fftfreq\n",
    "from scipy import signal\n",
    "import metodos\n",
    "import plotly.express as px\n",
    "import plotly.graph_objects as go\n",
    "from scipy import signal\n",
    "from scipy.optimize import curve_fit\n",
    "\n",
    "plt.style.use('./figuras.mplstyle')"
   ]
  },
  {
   "cell_type": "code",
   "execution_count": 3,
   "metadata": {},
   "outputs": [],
   "source": [
    "df = pd.read_csv(rf'C:\\Users\\lucio\\Documents\\Labo 4\\Young\\dinamico largo.csv')\n",
    "\n",
    "V = df['Tension fotodiodo [V]'].values\n",
    "tiempo = df['Tiempo [s]'].values\n",
    "datos_hasta_t = df['Datos hasta tiempo'].values\n",
    "duracion = df['Duracion [s]'][0]\n",
    "fs = df['Frecuencia de sampleo [Hz]'][0]\n",
    "\n",
    "\n",
    "N_puntos = int(duracion*fs)\n",
    "Deltat = 1/fs"
   ]
  }
 ],
 "metadata": {
  "kernelspec": {
   "display_name": "Python 3",
   "language": "python",
   "name": "python3"
  },
  "language_info": {
   "codemirror_mode": {
    "name": "ipython",
    "version": 3
   },
   "file_extension": ".py",
   "mimetype": "text/x-python",
   "name": "python",
   "nbconvert_exporter": "python",
   "pygments_lexer": "ipython3",
   "version": "3.11.6"
  }
 },
 "nbformat": 4,
 "nbformat_minor": 2
}
